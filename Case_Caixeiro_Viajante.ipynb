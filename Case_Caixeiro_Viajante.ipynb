{
  "cells": [
    {
      "cell_type": "markdown",
      "metadata": {
        "id": "sX6HNYpmguDU"
      },
      "source": [
        "# **Machine Learning | Algoritmos Genéticos**"
      ]
    },
    {
      "cell_type": "markdown",
      "metadata": {
        "id": "PJJf6Zrjg1Lj"
      },
      "source": [
        "Aplicam uma abordagem evolutiva (seleção natural das espécies) para a aprendizagem de máquina indutiva. Ou seja, ele aplica princípios evolutivos, como seleção, recombinação e mutação, em uma população de soluções candidatas.\n",
        "Então, basicamente, o algoritmo vai tentar encontrar várias soluções e usar a informação obtida (função objetivo) para conseguir soluções cada vez melhores."
      ]
    },
    {
      "cell_type": "markdown",
      "metadata": {
        "id": "_Zfw4ClJYgVT"
      },
      "source": [
        "Para isso, vamos usar a biblioteca deap, cuja documentação pode ser vista no link a seguir: https://deap.readthedocs.io/en/master/overview.html"
      ]
    },
    {
      "cell_type": "markdown",
      "metadata": {
        "id": "2bEl0QfuoPvM"
      },
      "source": [
        "# Problema do caixeiro-viajante"
      ]
    },
    {
      "cell_type": "markdown",
      "metadata": {
        "id": "GwPGwOEjoR7V"
      },
      "source": [
        "O TSP, ou problema do caixeiro-viajante em português, representado na figura, consiste na procura de um circuito que possua a menor distância, começando numa cidade (ou local) qualquer, entre várias, visitando cada cidade (local) precisamente uma vez e regressando à cidade (local) inicial."
      ]
    },
    {
      "cell_type": "markdown",
      "metadata": {
        "id": "oNEi2qWXoYS3"
      },
      "source": [
        "# Aplicação"
      ]
    },
    {
      "cell_type": "code",
      "execution_count": 4,
      "metadata": {
        "colab": {
          "base_uri": "https://localhost:8080/"
        },
        "id": "IMtjLGq6sxYX",
        "outputId": "37924bc7-6b99-415f-b8c4-4caa582c944c"
      },
      "outputs": [
        {
          "name": "stdout",
          "output_type": "stream",
          "text": [
            "Requirement already satisfied: deap in c:\\users\\maria\\appdata\\local\\programs\\python\\python311\\lib\\site-packages (1.4.1)\n",
            "Requirement already satisfied: numpy in c:\\users\\maria\\appdata\\local\\programs\\python\\python311\\lib\\site-packages (from deap) (1.25.2)\n",
            "Note: you may need to restart the kernel to use updated packages.\n"
          ]
        }
      ],
      "source": [
        "!pip install deap"
      ]
    },
    {
      "cell_type": "code",
      "execution_count": 5,
      "metadata": {},
      "outputs": [
        {
          "name": "stdout",
          "output_type": "stream",
          "text": [
            "Collecting folium\n",
            "  Downloading folium-0.14.0-py2.py3-none-any.whl (102 kB)\n",
            "     ---------------------------------------- 0.0/102.3 kB ? eta -:--:--\n",
            "     -------------------------------------- 102.3/102.3 kB 3.0 MB/s eta 0:00:00\n",
            "Collecting branca>=0.6.0 (from folium)\n",
            "  Downloading branca-0.6.0-py3-none-any.whl (24 kB)\n",
            "Collecting jinja2>=2.9 (from folium)\n",
            "  Downloading Jinja2-3.1.2-py3-none-any.whl (133 kB)\n",
            "     ---------------------------------------- 0.0/133.1 kB ? eta -:--:--\n",
            "     -------------------------------------- 133.1/133.1 kB 7.7 MB/s eta 0:00:00\n",
            "Requirement already satisfied: numpy in c:\\users\\maria\\appdata\\local\\programs\\python\\python311\\lib\\site-packages (from folium) (1.25.2)\n",
            "Requirement already satisfied: requests in c:\\users\\maria\\appdata\\local\\programs\\python\\python311\\lib\\site-packages (from folium) (2.31.0)\n",
            "Collecting MarkupSafe>=2.0 (from jinja2>=2.9->folium)\n",
            "  Obtaining dependency information for MarkupSafe>=2.0 from https://files.pythonhosted.org/packages/be/bb/08b85bc194034efbf572e70c3951549c8eca0ada25363afc154386b5390a/MarkupSafe-2.1.3-cp311-cp311-win_amd64.whl.metadata\n",
            "  Downloading MarkupSafe-2.1.3-cp311-cp311-win_amd64.whl.metadata (3.1 kB)\n",
            "Requirement already satisfied: charset-normalizer<4,>=2 in c:\\users\\maria\\appdata\\local\\programs\\python\\python311\\lib\\site-packages (from requests->folium) (3.2.0)\n",
            "Requirement already satisfied: idna<4,>=2.5 in c:\\users\\maria\\appdata\\local\\programs\\python\\python311\\lib\\site-packages (from requests->folium) (3.4)\n",
            "Requirement already satisfied: urllib3<3,>=1.21.1 in c:\\users\\maria\\appdata\\local\\programs\\python\\python311\\lib\\site-packages (from requests->folium) (1.26.16)\n",
            "Requirement already satisfied: certifi>=2017.4.17 in c:\\users\\maria\\appdata\\local\\programs\\python\\python311\\lib\\site-packages (from requests->folium) (2023.7.22)\n",
            "Downloading MarkupSafe-2.1.3-cp311-cp311-win_amd64.whl (17 kB)\n",
            "Installing collected packages: MarkupSafe, jinja2, branca, folium\n",
            "Successfully installed MarkupSafe-2.1.3 branca-0.6.0 folium-0.14.0 jinja2-3.1.2\n"
          ]
        }
      ],
      "source": [
        "!pip install folium"
      ]
    },
    {
      "cell_type": "code",
      "execution_count": 6,
      "metadata": {
        "id": "boIhcPVBLMGk"
      },
      "outputs": [],
      "source": [
        "# Imports\n",
        "import random\n",
        "import numpy as np\n",
        "from deap import algorithms, base, creator, tools\n",
        "import folium"
      ]
    },
    {
      "cell_type": "code",
      "execution_count": 7,
      "metadata": {
        "id": "cF3BVln96tJa"
      },
      "outputs": [],
      "source": [
        "# Criando um array com as coordenadas das 20 principais cidades européias\n",
        "cidades = np.array([\n",
        "    [51.5074, -0.1278], # Londres\n",
        "    [48.8566, 2.3522],  # Paris\n",
        "    [41.9028, 12.4964], # Roma\n",
        "    [52.5200, 13.4050], # Berlim\n",
        "    [55.7558, 37.6176], # Moscou\n",
        "    [40.4168, -3.7038], # Madri\n",
        "    [52.3702, 4.8952],  # Amsterdã\n",
        "    [59.3293, 18.0686], # Estocolmo\n",
        "    [38.7223, -9.1393], # Lisboa\n",
        "    [48.2082, 16.3738], # Viena\n",
        "    [53.3498, -6.2603], # Dublin\n",
        "    [41.0082, 28.9784], # Istambul\n",
        "    [52.2297, 21.0122], # Varsóvia\n",
        "    [47.4979, 19.0402], # Budapeste\n",
        "    [59.9343, 30.3351], # São Petersburgo\n",
        "    [59.9139, 10.7522], # Oslo\n",
        "    [50.0755, 14.4378], # Praga\n",
        "    [45.4642, 9.1900],  # Milão\n",
        "    [48.2082, 11.6680], # Munique\n",
        "    [55.6761, 12.5683], # Copenhague\n",
        "])"
      ]
    },
    {
      "cell_type": "code",
      "execution_count": 8,
      "metadata": {
        "id": "bPsfNTk0CsPG"
      },
      "outputs": [
        {
          "data": {
            "text/html": [
              "<div style=\"width:100%;\"><div style=\"position:relative;width:100%;height:0;padding-bottom:60%;\"><span style=\"color:#565656\">Make this Notebook Trusted to load map: File -> Trust Notebook</span><iframe srcdoc=\"&lt;!DOCTYPE html&gt;\n",
              "&lt;html&gt;\n",
              "&lt;head&gt;\n",
              "    \n",
              "    &lt;meta http-equiv=&quot;content-type&quot; content=&quot;text/html; charset=UTF-8&quot; /&gt;\n",
              "    \n",
              "        &lt;script&gt;\n",
              "            L_NO_TOUCH = false;\n",
              "            L_DISABLE_3D = false;\n",
              "        &lt;/script&gt;\n",
              "    \n",
              "    &lt;style&gt;html, body {width: 100%;height: 100%;margin: 0;padding: 0;}&lt;/style&gt;\n",
              "    &lt;style&gt;#map {position:absolute;top:0;bottom:0;right:0;left:0;}&lt;/style&gt;\n",
              "    &lt;script src=&quot;https://cdn.jsdelivr.net/npm/leaflet@1.9.3/dist/leaflet.js&quot;&gt;&lt;/script&gt;\n",
              "    &lt;script src=&quot;https://code.jquery.com/jquery-1.12.4.min.js&quot;&gt;&lt;/script&gt;\n",
              "    &lt;script src=&quot;https://cdn.jsdelivr.net/npm/bootstrap@5.2.2/dist/js/bootstrap.bundle.min.js&quot;&gt;&lt;/script&gt;\n",
              "    &lt;script src=&quot;https://cdnjs.cloudflare.com/ajax/libs/Leaflet.awesome-markers/2.0.2/leaflet.awesome-markers.js&quot;&gt;&lt;/script&gt;\n",
              "    &lt;link rel=&quot;stylesheet&quot; href=&quot;https://cdn.jsdelivr.net/npm/leaflet@1.9.3/dist/leaflet.css&quot;/&gt;\n",
              "    &lt;link rel=&quot;stylesheet&quot; href=&quot;https://cdn.jsdelivr.net/npm/bootstrap@5.2.2/dist/css/bootstrap.min.css&quot;/&gt;\n",
              "    &lt;link rel=&quot;stylesheet&quot; href=&quot;https://netdna.bootstrapcdn.com/bootstrap/3.0.0/css/bootstrap.min.css&quot;/&gt;\n",
              "    &lt;link rel=&quot;stylesheet&quot; href=&quot;https://cdn.jsdelivr.net/npm/@fortawesome/fontawesome-free@6.2.0/css/all.min.css&quot;/&gt;\n",
              "    &lt;link rel=&quot;stylesheet&quot; href=&quot;https://cdnjs.cloudflare.com/ajax/libs/Leaflet.awesome-markers/2.0.2/leaflet.awesome-markers.css&quot;/&gt;\n",
              "    &lt;link rel=&quot;stylesheet&quot; href=&quot;https://cdn.jsdelivr.net/gh/python-visualization/folium/folium/templates/leaflet.awesome.rotate.min.css&quot;/&gt;\n",
              "    \n",
              "            &lt;meta name=&quot;viewport&quot; content=&quot;width=device-width,\n",
              "                initial-scale=1.0, maximum-scale=1.0, user-scalable=no&quot; /&gt;\n",
              "            &lt;style&gt;\n",
              "                #map_43bed9baccbe00e2401a633d1bf41690 {\n",
              "                    position: relative;\n",
              "                    width: 100.0%;\n",
              "                    height: 100.0%;\n",
              "                    left: 0.0%;\n",
              "                    top: 0.0%;\n",
              "                }\n",
              "                .leaflet-container { font-size: 1rem; }\n",
              "            &lt;/style&gt;\n",
              "        \n",
              "&lt;/head&gt;\n",
              "&lt;body&gt;\n",
              "    \n",
              "    \n",
              "            &lt;div class=&quot;folium-map&quot; id=&quot;map_43bed9baccbe00e2401a633d1bf41690&quot; &gt;&lt;/div&gt;\n",
              "        \n",
              "&lt;/body&gt;\n",
              "&lt;script&gt;\n",
              "    \n",
              "    \n",
              "            var map_43bed9baccbe00e2401a633d1bf41690 = L.map(\n",
              "                &quot;map_43bed9baccbe00e2401a633d1bf41690&quot;,\n",
              "                {\n",
              "                    center: [50.147360000000006, 12.19799],\n",
              "                    crs: L.CRS.EPSG3857,\n",
              "                    zoom: 4,\n",
              "                    zoomControl: true,\n",
              "                    preferCanvas: false,\n",
              "                }\n",
              "            );\n",
              "\n",
              "            \n",
              "\n",
              "        \n",
              "    \n",
              "            var tile_layer_acf2492e15aa43a985afe3692e9e59f5 = L.tileLayer(\n",
              "                &quot;https://{s}.tile.openstreetmap.org/{z}/{x}/{y}.png&quot;,\n",
              "                {&quot;attribution&quot;: &quot;Data by \\u0026copy; \\u003ca target=\\&quot;_blank\\&quot; href=\\&quot;http://openstreetmap.org\\&quot;\\u003eOpenStreetMap\\u003c/a\\u003e, under \\u003ca target=\\&quot;_blank\\&quot; href=\\&quot;http://www.openstreetmap.org/copyright\\&quot;\\u003eODbL\\u003c/a\\u003e.&quot;, &quot;detectRetina&quot;: false, &quot;maxNativeZoom&quot;: 18, &quot;maxZoom&quot;: 18, &quot;minZoom&quot;: 0, &quot;noWrap&quot;: false, &quot;opacity&quot;: 1, &quot;subdomains&quot;: &quot;abc&quot;, &quot;tms&quot;: false}\n",
              "            ).addTo(map_43bed9baccbe00e2401a633d1bf41690);\n",
              "        \n",
              "    \n",
              "            var marker_a4679ba26a7a3d7f04a85d9890ad7baa = L.marker(\n",
              "                [51.5074, -0.1278],\n",
              "                {}\n",
              "            ).addTo(map_43bed9baccbe00e2401a633d1bf41690);\n",
              "        \n",
              "    \n",
              "            var marker_0f90a8a672a789336fcd25400d73dafd = L.marker(\n",
              "                [48.8566, 2.3522],\n",
              "                {}\n",
              "            ).addTo(map_43bed9baccbe00e2401a633d1bf41690);\n",
              "        \n",
              "    \n",
              "            var marker_6c681785200d399e2b11c2c8238da4e0 = L.marker(\n",
              "                [41.9028, 12.4964],\n",
              "                {}\n",
              "            ).addTo(map_43bed9baccbe00e2401a633d1bf41690);\n",
              "        \n",
              "    \n",
              "            var marker_0855d4822b0d6f2253a8851a156ab469 = L.marker(\n",
              "                [52.52, 13.405],\n",
              "                {}\n",
              "            ).addTo(map_43bed9baccbe00e2401a633d1bf41690);\n",
              "        \n",
              "    \n",
              "            var marker_7f7f59e688f749649d4be4e8a7067078 = L.marker(\n",
              "                [55.7558, 37.6176],\n",
              "                {}\n",
              "            ).addTo(map_43bed9baccbe00e2401a633d1bf41690);\n",
              "        \n",
              "    \n",
              "            var marker_7d231b2e03447d79031610f5c774f383 = L.marker(\n",
              "                [40.4168, -3.7038],\n",
              "                {}\n",
              "            ).addTo(map_43bed9baccbe00e2401a633d1bf41690);\n",
              "        \n",
              "    \n",
              "            var marker_e20501a13eb1aa4b3a489dd05cfdbc3f = L.marker(\n",
              "                [52.3702, 4.8952],\n",
              "                {}\n",
              "            ).addTo(map_43bed9baccbe00e2401a633d1bf41690);\n",
              "        \n",
              "    \n",
              "            var marker_da3a42915fd4601e9ccdeedaf8e96275 = L.marker(\n",
              "                [59.3293, 18.0686],\n",
              "                {}\n",
              "            ).addTo(map_43bed9baccbe00e2401a633d1bf41690);\n",
              "        \n",
              "    \n",
              "            var marker_8c74eb424ee4c6f5ff0a96da1a15df34 = L.marker(\n",
              "                [38.7223, -9.1393],\n",
              "                {}\n",
              "            ).addTo(map_43bed9baccbe00e2401a633d1bf41690);\n",
              "        \n",
              "    \n",
              "            var marker_766ad72dcd25fc5ae9b53df9c4c6154e = L.marker(\n",
              "                [48.2082, 16.3738],\n",
              "                {}\n",
              "            ).addTo(map_43bed9baccbe00e2401a633d1bf41690);\n",
              "        \n",
              "    \n",
              "            var marker_a7e3d443ec586b843cc4ce8225c0b971 = L.marker(\n",
              "                [53.3498, -6.2603],\n",
              "                {}\n",
              "            ).addTo(map_43bed9baccbe00e2401a633d1bf41690);\n",
              "        \n",
              "    \n",
              "            var marker_483ab79c7a04c137ced3c1a0fe40ae3e = L.marker(\n",
              "                [41.0082, 28.9784],\n",
              "                {}\n",
              "            ).addTo(map_43bed9baccbe00e2401a633d1bf41690);\n",
              "        \n",
              "    \n",
              "            var marker_39795b945cca3c27583b38e59773db12 = L.marker(\n",
              "                [52.2297, 21.0122],\n",
              "                {}\n",
              "            ).addTo(map_43bed9baccbe00e2401a633d1bf41690);\n",
              "        \n",
              "    \n",
              "            var marker_01461cfeb2d7bfca365c9e39be1f5682 = L.marker(\n",
              "                [47.4979, 19.0402],\n",
              "                {}\n",
              "            ).addTo(map_43bed9baccbe00e2401a633d1bf41690);\n",
              "        \n",
              "    \n",
              "            var marker_1f779257f66ce62b318f66029c01f63f = L.marker(\n",
              "                [59.9343, 30.3351],\n",
              "                {}\n",
              "            ).addTo(map_43bed9baccbe00e2401a633d1bf41690);\n",
              "        \n",
              "    \n",
              "            var marker_5c42605c3ca13100f44b2b8a7a86ef4d = L.marker(\n",
              "                [59.9139, 10.7522],\n",
              "                {}\n",
              "            ).addTo(map_43bed9baccbe00e2401a633d1bf41690);\n",
              "        \n",
              "    \n",
              "            var marker_9c050dd4853928c655096b61f9fd92d9 = L.marker(\n",
              "                [50.0755, 14.4378],\n",
              "                {}\n",
              "            ).addTo(map_43bed9baccbe00e2401a633d1bf41690);\n",
              "        \n",
              "    \n",
              "            var marker_e93e0bfd8c36ea8976a2de20ccdd1cb7 = L.marker(\n",
              "                [45.4642, 9.19],\n",
              "                {}\n",
              "            ).addTo(map_43bed9baccbe00e2401a633d1bf41690);\n",
              "        \n",
              "    \n",
              "            var marker_66f0b92abfb0195ab1082844fa473c22 = L.marker(\n",
              "                [48.2082, 11.668],\n",
              "                {}\n",
              "            ).addTo(map_43bed9baccbe00e2401a633d1bf41690);\n",
              "        \n",
              "    \n",
              "            var marker_edff0295c7a3d1555b12af484dfb40c8 = L.marker(\n",
              "                [55.6761, 12.5683],\n",
              "                {}\n",
              "            ).addTo(map_43bed9baccbe00e2401a633d1bf41690);\n",
              "        \n",
              "&lt;/script&gt;\n",
              "&lt;/html&gt;\" style=\"position:absolute;width:100%;height:100%;left:0;top:0;border:none !important;\" allowfullscreen webkitallowfullscreen mozallowfullscreen></iframe></div></div>"
            ],
            "text/plain": [
              "<folium.folium.Map at 0x1bb86707c90>"
            ]
          },
          "execution_count": 8,
          "metadata": {},
          "output_type": "execute_result"
        }
      ],
      "source": [
        "# Criando um novo objeto folium.Map\n",
        "centro = np.mean(cidades, axis=0)\n",
        "m = folium.Map(location=centro, zoom_start=4)\n",
        "\n",
        "# Adicionando marcadores das cidades\n",
        "for cidade in cidades:\n",
        "    folium.Marker([cidade[0], cidade[1]]).add_to(m)\n",
        "\n",
        "m"
      ]
    },
    {
      "cell_type": "markdown",
      "metadata": {
        "id": "hCrj0OsXA9gt"
      },
      "source": [
        "Saída: https://github.com/mariaraquelbarbosa/genetic-algorithm/blob/main/mapa_interativo_v1.html"
      ]
    },
    {
      "cell_type": "code",
      "execution_count": 9,
      "metadata": {
        "id": "_NSXyl_q8lXF"
      },
      "outputs": [],
      "source": [
        "m.save('mapa_interativo_v1.html')"
      ]
    },
    {
      "cell_type": "code",
      "execution_count": 10,
      "metadata": {
        "id": "yM9_hGBL7usO"
      },
      "outputs": [],
      "source": [
        "# Calculando a distância entre duas cidades\n",
        "def distancia(cidade1, cidade2):\n",
        "    return np.linalg.norm(cidade1 - cidade2)\n",
        "\n",
        "# Calculando a distância total da rota\n",
        "def distancia_total_rota(rota):\n",
        "    distancia_total = 0\n",
        "    for i in range(len(rota) - 1):\n",
        "        cidade1 = cidades[rota[i]]\n",
        "        cidade2 = cidades[rota[i + 1]]\n",
        "        distancia_total += distancia(cidade1, cidade2)\n",
        "    return distancia_total\n",
        "\n",
        "# Função de avaliação ou de otimização (fitness)\n",
        "def funcao_avaliacao(individuo):\n",
        "    rota = individuo + [individuo[0]]  # Adiciona a cidade inicial no final\n",
        "    return (distancia_total_rota(rota),)"
      ]
    },
    {
      "cell_type": "code",
      "execution_count": 11,
      "metadata": {
        "colab": {
          "base_uri": "https://localhost:8080/"
        },
        "id": "yvBrupgumrJt",
        "outputId": "7cf1c1d4-ba0b-4c53-aae0-8b1a7011c8a3"
      },
      "outputs": [
        {
          "name": "stdout",
          "output_type": "stream",
          "text": [
            "Melhor rota: [1, 0, 10, 8, 5, 17, 2, 9, 13, 12, 11, 4, 14, 7, 15, 19, 3, 16, 18, 6, 1]\n",
            "Distância da melhor rota: (149.65610291651174,)\n"
          ]
        }
      ],
      "source": [
        "# Definindo o tipo de problema\n",
        "creator.create(\"MyFitnessMin\", base.Fitness, weights=(-1.0,)) # o objetivo é encontrar a solução com o menor valor de aptidão possível (problema de minimização)\n",
        "creator.create(\"MyIndividual\", list, fitness=creator.MyFitnessMin) # representa um indivíduo da população, ou seja, uma solução candidata ao problema de otimização\n",
        "\n",
        "# Criando inicializadores e operadores da biblioteca deap\n",
        "toolbox = base.Toolbox() # Instância da classe Toolbox que contém as funções de operadores genéticos (como seleção, reprodução, mutação) e as funções de avaliação necessárias para o algoritmo\n",
        "toolbox.register(\"indices\", random.sample, range(len(cidades)), len(cidades)) # Gera uma lista de índices únicos aleatoriamente em um intervalo de 0 até 20 (len(cidades))\n",
        "toolbox.register(\"individual\", tools.initIterate, creator.MyIndividual, toolbox.indices) # Cria os indivíduos do algoritmo genético\n",
        "toolbox.register(\"population\", tools.initRepeat, list, toolbox.individual) # Cria uma população/uma lista de indivíduos\n",
        "toolbox.register(\"evaluate\", funcao_avaliacao) # Calcula o valor de aptidão (fitness) de um indivíduo\n",
        "toolbox.register(\"mate\", tools.cxOrdered) # Rreprodução entre dois indivíduos (está sendo utilizado o operador cxOrdered para realizar o cruzamento ordenado)\n",
        "toolbox.register(\"mutate\", tools.mutShuffleIndexes, indpb=0.05) # Mutação em um indivíduo (está sendo utilizado mutShuffleIndexes para embaralha os índices com uma probabilidade de mutação de 0.05)\n",
        "toolbox.register(\"select\", tools.selTournament, tournsize=3) # Seleção de indivíduos para reprodução (está sendo utilizado selTournament para selecionar os indivíduos por um torneio com tamanho igual a 3)\n",
        "\n",
        "# População inicial de tamanho 100\n",
        "populacao = toolbox.population(n=100)\n",
        "\n",
        "# Executando o algoritmo\n",
        "algorithms.eaSimple(populacao, toolbox, cxpb=0.7, mutpb=0.2, ngen=500, verbose=False)\n",
        "  # cxpb é a probabilidade de ocorrência do crossover (reprodução) entre dois indivíduos\n",
        "  # mutpb é a probabilidade de ocorrência da mutação em um indivíduo\n",
        "  # ngen é o número de iterações do algoritmo genético\n",
        "  # verbose é um parâmetro opcional que controla a exibição de informações durante a execução do algoritmo\n",
        "\n",
        "# Resultado\n",
        "melhor_individuo = tools.selBest(populacao, k=1)[0] # k=1 indica que será selecionado apenas o melhor indivíduo\n",
        "melhor_individuo = melhor_individuo + [melhor_individuo[0]]  # Adiciona a cidade inicial no final\n",
        "print(\"Melhor rota:\", melhor_individuo)\n",
        "print(\"Distância da melhor rota:\", funcao_avaliacao(melhor_individuo))"
      ]
    },
    {
      "cell_type": "code",
      "execution_count": 12,
      "metadata": {
        "colab": {
          "base_uri": "https://localhost:8080/"
        },
        "id": "qMaxWuWtK_Qg",
        "outputId": "66bb3741-d023-4056-deea-5f1643f4abd1"
      },
      "outputs": [
        {
          "name": "stdout",
          "output_type": "stream",
          "text": [
            "Melhor rota: ['Paris', 'Londres', 'Dublin', 'Lisboa', 'Madri', 'Milão', 'Roma', 'Viena', 'Budapeste', 'Varsóvia', 'Istambul', 'Moscou', 'São Petersburgo', 'Estocolmo', 'Oslo', 'Copenhague', 'Berlim', 'Praga', 'Munique', 'Amsterdã', 'Paris']\n",
            "Distância da melhor rota: 149.65610291651174\n"
          ]
        }
      ],
      "source": [
        "# Lista com os nomes das cidades\n",
        "cidades_nomes = [\"Londres\",\n",
        "                 \"Paris\",\n",
        "                 \"Roma\",\n",
        "                 \"Berlim\",\n",
        "                 \"Moscou\",\n",
        "                 \"Madri\",\n",
        "                 \"Amsterdã\",\n",
        "                 \"Estocolmo\",\n",
        "                 \"Lisboa\",\n",
        "                 \"Viena\",\n",
        "                 \"Dublin\",\n",
        "                 \"Istambul\",\n",
        "                 \"Varsóvia\",\n",
        "                 \"Budapeste\",\n",
        "                 \"São Petersburgo\",\n",
        "                 \"Oslo\",\n",
        "                 \"Praga\",\n",
        "                 \"Milão\",\n",
        "                 \"Munique\",\n",
        "                 \"Copenhague\"]\n",
        "\n",
        "# List comprehension para colocar nome das cidade na rota final\n",
        "melhor_rota_nomes = [cidades_nomes[cidade] for cidade in melhor_individuo]\n",
        "\n",
        "# Resultado\n",
        "print(\"Melhor rota:\", melhor_rota_nomes)\n",
        "print(\"Distância da melhor rota:\", distancia_total_rota(melhor_individuo))"
      ]
    },
    {
      "cell_type": "code",
      "execution_count": 13,
      "metadata": {
        "colab": {
          "base_uri": "https://localhost:8080/"
        },
        "id": "ebkJwXy3BwlG",
        "outputId": "98cb5b89-5d85-4590-efd5-73c6903a0e78"
      },
      "outputs": [
        {
          "data": {
            "text/plain": [
              "[[48.8566, 2.3522],\n",
              " [51.5074, -0.1278],\n",
              " [53.3498, -6.2603],\n",
              " [38.7223, -9.1393],\n",
              " [40.4168, -3.7038],\n",
              " [45.4642, 9.19],\n",
              " [41.9028, 12.4964],\n",
              " [48.2082, 16.3738],\n",
              " [47.4979, 19.0402],\n",
              " [52.2297, 21.0122],\n",
              " [41.0082, 28.9784],\n",
              " [55.7558, 37.6176],\n",
              " [59.9343, 30.3351],\n",
              " [59.3293, 18.0686],\n",
              " [59.9139, 10.7522],\n",
              " [55.6761, 12.5683],\n",
              " [52.52, 13.405],\n",
              " [50.0755, 14.4378],\n",
              " [48.2082, 11.668],\n",
              " [52.3702, 4.8952],\n",
              " [48.8566, 2.3522]]"
            ]
          },
          "execution_count": 13,
          "metadata": {},
          "output_type": "execute_result"
        }
      ],
      "source": [
        "# Criando um novo objeto folium.Map\n",
        "m = folium.Map(location=centro, zoom_start=4)\n",
        "\n",
        "# Lista com as coordenadas ordenadas\n",
        "rota_final_coordenadas = [[cidades[cidade][0], cidades[cidade][1]] for cidade in melhor_individuo]\n",
        "rota_final_coordenadas"
      ]
    },
    {
      "cell_type": "code",
      "execution_count": 14,
      "metadata": {
        "id": "o2DZF4UHWCrN"
      },
      "outputs": [
        {
          "data": {
            "text/html": [
              "<div style=\"width:100%;\"><div style=\"position:relative;width:100%;height:0;padding-bottom:60%;\"><span style=\"color:#565656\">Make this Notebook Trusted to load map: File -> Trust Notebook</span><iframe srcdoc=\"&lt;!DOCTYPE html&gt;\n",
              "&lt;html&gt;\n",
              "&lt;head&gt;\n",
              "    \n",
              "    &lt;meta http-equiv=&quot;content-type&quot; content=&quot;text/html; charset=UTF-8&quot; /&gt;\n",
              "    \n",
              "        &lt;script&gt;\n",
              "            L_NO_TOUCH = false;\n",
              "            L_DISABLE_3D = false;\n",
              "        &lt;/script&gt;\n",
              "    \n",
              "    &lt;style&gt;html, body {width: 100%;height: 100%;margin: 0;padding: 0;}&lt;/style&gt;\n",
              "    &lt;style&gt;#map {position:absolute;top:0;bottom:0;right:0;left:0;}&lt;/style&gt;\n",
              "    &lt;script src=&quot;https://cdn.jsdelivr.net/npm/leaflet@1.9.3/dist/leaflet.js&quot;&gt;&lt;/script&gt;\n",
              "    &lt;script src=&quot;https://code.jquery.com/jquery-1.12.4.min.js&quot;&gt;&lt;/script&gt;\n",
              "    &lt;script src=&quot;https://cdn.jsdelivr.net/npm/bootstrap@5.2.2/dist/js/bootstrap.bundle.min.js&quot;&gt;&lt;/script&gt;\n",
              "    &lt;script src=&quot;https://cdnjs.cloudflare.com/ajax/libs/Leaflet.awesome-markers/2.0.2/leaflet.awesome-markers.js&quot;&gt;&lt;/script&gt;\n",
              "    &lt;link rel=&quot;stylesheet&quot; href=&quot;https://cdn.jsdelivr.net/npm/leaflet@1.9.3/dist/leaflet.css&quot;/&gt;\n",
              "    &lt;link rel=&quot;stylesheet&quot; href=&quot;https://cdn.jsdelivr.net/npm/bootstrap@5.2.2/dist/css/bootstrap.min.css&quot;/&gt;\n",
              "    &lt;link rel=&quot;stylesheet&quot; href=&quot;https://netdna.bootstrapcdn.com/bootstrap/3.0.0/css/bootstrap.min.css&quot;/&gt;\n",
              "    &lt;link rel=&quot;stylesheet&quot; href=&quot;https://cdn.jsdelivr.net/npm/@fortawesome/fontawesome-free@6.2.0/css/all.min.css&quot;/&gt;\n",
              "    &lt;link rel=&quot;stylesheet&quot; href=&quot;https://cdnjs.cloudflare.com/ajax/libs/Leaflet.awesome-markers/2.0.2/leaflet.awesome-markers.css&quot;/&gt;\n",
              "    &lt;link rel=&quot;stylesheet&quot; href=&quot;https://cdn.jsdelivr.net/gh/python-visualization/folium/folium/templates/leaflet.awesome.rotate.min.css&quot;/&gt;\n",
              "    \n",
              "            &lt;meta name=&quot;viewport&quot; content=&quot;width=device-width,\n",
              "                initial-scale=1.0, maximum-scale=1.0, user-scalable=no&quot; /&gt;\n",
              "            &lt;style&gt;\n",
              "                #map_0fcc5ffdb9146f90b6abb02053fc8519 {\n",
              "                    position: relative;\n",
              "                    width: 100.0%;\n",
              "                    height: 100.0%;\n",
              "                    left: 0.0%;\n",
              "                    top: 0.0%;\n",
              "                }\n",
              "                .leaflet-container { font-size: 1rem; }\n",
              "            &lt;/style&gt;\n",
              "        \n",
              "&lt;/head&gt;\n",
              "&lt;body&gt;\n",
              "    \n",
              "    \n",
              "            &lt;div class=&quot;folium-map&quot; id=&quot;map_0fcc5ffdb9146f90b6abb02053fc8519&quot; &gt;&lt;/div&gt;\n",
              "        \n",
              "&lt;/body&gt;\n",
              "&lt;script&gt;\n",
              "    \n",
              "    \n",
              "            var map_0fcc5ffdb9146f90b6abb02053fc8519 = L.map(\n",
              "                &quot;map_0fcc5ffdb9146f90b6abb02053fc8519&quot;,\n",
              "                {\n",
              "                    center: [50.147360000000006, 12.19799],\n",
              "                    crs: L.CRS.EPSG3857,\n",
              "                    zoom: 4,\n",
              "                    zoomControl: true,\n",
              "                    preferCanvas: false,\n",
              "                }\n",
              "            );\n",
              "\n",
              "            \n",
              "\n",
              "        \n",
              "    \n",
              "            var tile_layer_75e095104bc7ecd2608bc1a5124b8417 = L.tileLayer(\n",
              "                &quot;https://{s}.tile.openstreetmap.org/{z}/{x}/{y}.png&quot;,\n",
              "                {&quot;attribution&quot;: &quot;Data by \\u0026copy; \\u003ca target=\\&quot;_blank\\&quot; href=\\&quot;http://openstreetmap.org\\&quot;\\u003eOpenStreetMap\\u003c/a\\u003e, under \\u003ca target=\\&quot;_blank\\&quot; href=\\&quot;http://www.openstreetmap.org/copyright\\&quot;\\u003eODbL\\u003c/a\\u003e.&quot;, &quot;detectRetina&quot;: false, &quot;maxNativeZoom&quot;: 18, &quot;maxZoom&quot;: 18, &quot;minZoom&quot;: 0, &quot;noWrap&quot;: false, &quot;opacity&quot;: 1, &quot;subdomains&quot;: &quot;abc&quot;, &quot;tms&quot;: false}\n",
              "            ).addTo(map_0fcc5ffdb9146f90b6abb02053fc8519);\n",
              "        \n",
              "    \n",
              "            var poly_line_28f096c784cb20dfee6c5ced3fc3995c = L.polyline(\n",
              "                [[48.8566, 2.3522], [51.5074, -0.1278], [53.3498, -6.2603], [38.7223, -9.1393], [40.4168, -3.7038], [45.4642, 9.19], [41.9028, 12.4964], [48.2082, 16.3738], [47.4979, 19.0402], [52.2297, 21.0122], [41.0082, 28.9784], [55.7558, 37.6176], [59.9343, 30.3351], [59.3293, 18.0686], [59.9139, 10.7522], [55.6761, 12.5683], [52.52, 13.405], [50.0755, 14.4378], [48.2082, 11.668], [52.3702, 4.8952], [48.8566, 2.3522]],\n",
              "                {&quot;bubblingMouseEvents&quot;: true, &quot;color&quot;: &quot;blue&quot;, &quot;dashArray&quot;: null, &quot;dashOffset&quot;: null, &quot;fill&quot;: false, &quot;fillColor&quot;: &quot;blue&quot;, &quot;fillOpacity&quot;: 0.2, &quot;fillRule&quot;: &quot;evenodd&quot;, &quot;lineCap&quot;: &quot;round&quot;, &quot;lineJoin&quot;: &quot;round&quot;, &quot;noClip&quot;: false, &quot;opacity&quot;: 1, &quot;smoothFactor&quot;: 1.0, &quot;stroke&quot;: true, &quot;weight&quot;: 2}\n",
              "            ).addTo(map_0fcc5ffdb9146f90b6abb02053fc8519);\n",
              "        \n",
              "&lt;/script&gt;\n",
              "&lt;/html&gt;\" style=\"position:absolute;width:100%;height:100%;left:0;top:0;border:none !important;\" allowfullscreen webkitallowfullscreen mozallowfullscreen></iframe></div></div>"
            ],
            "text/plain": [
              "<folium.folium.Map at 0x1bb878695d0>"
            ]
          },
          "execution_count": 14,
          "metadata": {},
          "output_type": "execute_result"
        }
      ],
      "source": [
        "# Cria uma linha no mapa com base nas coordenadas da melhor rota\n",
        "folium.PolyLine(rota_final_coordenadas, color='blue', weight=2, opacity=1).add_to(m)\n",
        "m"
      ]
    },
    {
      "cell_type": "markdown",
      "metadata": {
        "id": "9xZhSR6dBBtC"
      },
      "source": [
        "Saída: https://github.com/mariaraquelbarbosa/genetic-algorithm/blob/main/mapa_interativo_v2.html"
      ]
    },
    {
      "cell_type": "code",
      "execution_count": 15,
      "metadata": {
        "id": "jKwkZTbT8tyD"
      },
      "outputs": [],
      "source": [
        "m.save('mapa_interativo_v2.html')"
      ]
    },
    {
      "cell_type": "markdown",
      "metadata": {
        "id": "skdOpOFXeKSe"
      },
      "source": [
        "# **Considerações finais**"
      ]
    },
    {
      "cell_type": "markdown",
      "metadata": {
        "id": "1ewbb1iteQ7q"
      },
      "source": [
        "O algoritmo genético tem uma aplicabilidade mais específica, quando comparado com outros algoritmos de machine learning e, no caso do TSP, não considerou muitos fatores que podem determinantes ao tornar este exemplo um real problema de logística, como trabalhar com rotas de transporte reais, ou ainda considerar o número de pedidos por cidade e a capacidade de cada veículo de transporte. Ainda assim, ele pode gerar um ponto de partida para desenvolver uma solução ótima nesse tipo de problema.\n",
        "\n",
        "Podemos aplicá-lo em outros contextos, como:\n",
        "* Seleção de carteiras de investimento (maximizar o retorno e minimizar o risco).\n",
        "* Problemas de programação combinatória, como escalonamento de horários, alocação de recursos, agendamento de tarefas.\n",
        "* Otimização de projetos de circuitos eletrônicos."
      ]
    }
  ],
  "metadata": {
    "colab": {
      "provenance": []
    },
    "kernelspec": {
      "display_name": "Python 3",
      "name": "python3"
    },
    "language_info": {
      "codemirror_mode": {
        "name": "ipython",
        "version": 3
      },
      "file_extension": ".py",
      "mimetype": "text/x-python",
      "name": "python",
      "nbconvert_exporter": "python",
      "pygments_lexer": "ipython3",
      "version": "3.11.4"
    }
  },
  "nbformat": 4,
  "nbformat_minor": 0
}
