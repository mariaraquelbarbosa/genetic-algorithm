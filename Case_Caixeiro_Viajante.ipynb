{
  "nbformat": 4,
  "nbformat_minor": 0,
  "metadata": {
    "colab": {
      "provenance": []
    },
    "kernelspec": {
      "name": "python3",
      "display_name": "Python 3"
    },
    "language_info": {
      "name": "python"
    }
  },
  "cells": [
    {
      "cell_type": "markdown",
      "source": [
        "# **Machine Learning | Algoritmos Genéticos**"
      ],
      "metadata": {
        "id": "sX6HNYpmguDU"
      }
    },
    {
      "cell_type": "markdown",
      "source": [
        "Aplicam uma abordagem evolutiva (seleção natural das espécies) para a aprendizagem de máquina indutiva. Ou seja, ele aplica princípios evolutivos, como seleção, recombinação e mutação, em uma população de soluções candidatas.\n",
        "Então, basicamente, o algoritmo vai tentar encontrar várias soluções e usar a informação obtida (função objetivo) para conseguir soluções cada vez melhores."
      ],
      "metadata": {
        "id": "PJJf6Zrjg1Lj"
      }
    },
    {
      "cell_type": "markdown",
      "source": [
        "Para isso, vamos usar a biblioteca deap, cuja documentação pode ser vista no link a seguir: https://deap.readthedocs.io/en/master/overview.html"
      ],
      "metadata": {
        "id": "_Zfw4ClJYgVT"
      }
    },
    {
      "cell_type": "markdown",
      "source": [
        "# Problema do caixeiro-viajante"
      ],
      "metadata": {
        "id": "2bEl0QfuoPvM"
      }
    },
    {
      "cell_type": "markdown",
      "source": [
        "O TSP, ou problema do caixeiro-viajante em português, representado na figura, consiste na procura de um circuito que possua a menor distância, começando numa cidade (ou local) qualquer, entre várias, visitando cada cidade (local) precisamente uma vez e regressando à cidade (local) inicial."
      ],
      "metadata": {
        "id": "GwPGwOEjoR7V"
      }
    },
    {
      "cell_type": "markdown",
      "source": [
        "# Aplicação"
      ],
      "metadata": {
        "id": "oNEi2qWXoYS3"
      }
    },
    {
      "cell_type": "code",
      "source": [
        "pip install deap"
      ],
      "metadata": {
        "colab": {
          "base_uri": "https://localhost:8080/"
        },
        "id": "IMtjLGq6sxYX",
        "outputId": "37924bc7-6b99-415f-b8c4-4caa582c944c"
      },
      "execution_count": 1,
      "outputs": [
        {
          "output_type": "stream",
          "name": "stdout",
          "text": [
            "Collecting deap\n",
            "  Downloading deap-1.4.1-cp310-cp310-manylinux_2_5_x86_64.manylinux1_x86_64.manylinux_2_17_x86_64.manylinux2014_x86_64.whl (135 kB)\n",
            "\u001b[2K     \u001b[90m━━━━━━━━━━━━━━━━━━━━━━━━━━━━━━━━━━━━━━━\u001b[0m \u001b[32m135.4/135.4 kB\u001b[0m \u001b[31m1.9 MB/s\u001b[0m eta \u001b[36m0:00:00\u001b[0m\n",
            "\u001b[?25hRequirement already satisfied: numpy in /usr/local/lib/python3.10/dist-packages (from deap) (1.22.4)\n",
            "Installing collected packages: deap\n",
            "Successfully installed deap-1.4.1\n"
          ]
        }
      ]
    },
    {
      "cell_type": "code",
      "source": [
        "# Imports\n",
        "import random\n",
        "import numpy as np\n",
        "from deap import algorithms, base, creator, tools\n",
        "import folium"
      ],
      "metadata": {
        "id": "boIhcPVBLMGk"
      },
      "execution_count": 2,
      "outputs": []
    },
    {
      "cell_type": "code",
      "source": [
        "# Criando um array com as coordenadas das 20 principais cidades européias\n",
        "cidades = np.array([\n",
        "    [51.5074, -0.1278],     # Londres\n",
        "    [48.8566, 2.3522],      # Paris\n",
        "    [41.9028, 12.4964],     # Roma\n",
        "    [52.5200, 13.4050],     # Berlim\n",
        "    [55.7558, 37.6176],     # Moscou\n",
        "    [40.4168, -3.7038],     # Madri\n",
        "    [52.3702, 4.8952],      # Amsterdã\n",
        "    [59.3293, 18.0686],     # Estocolmo\n",
        "    [38.7223, -9.1393],     # Lisboa\n",
        "    [48.2082, 16.3738],     # Viena\n",
        "    [53.3498, -6.2603],     # Dublin\n",
        "    [41.0082, 28.9784],     # Istambul\n",
        "    [52.2297, 21.0122],     # Varsóvia\n",
        "    [47.4979, 19.0402],     # Budapeste\n",
        "    [59.9343, 30.3351],     # São Petersburgo\n",
        "    [59.9139, 10.7522],     # Oslo\n",
        "    [50.0755, 14.4378],     # Praga\n",
        "    [45.4642, 9.1900],      # Milão\n",
        "    [48.2082, 11.6680],     # Munique\n",
        "    [55.6761, 12.5683],     # Copenhague\n",
        "])"
      ],
      "metadata": {
        "id": "cF3BVln96tJa"
      },
      "execution_count": 3,
      "outputs": []
    },
    {
      "cell_type": "code",
      "source": [
        "# Cálculo do centro\n",
        "centro = np.mean(cidades, axis=0)\n",
        "\n",
        "# Criar um novo objeto folium.Map com base no centro\n",
        "m = folium.Map(location=centro, zoom_start=4)\n",
        "\n",
        "# Adicionar marcadores para cada cidade\n",
        "for cidade in cidades:\n",
        "    folium.Marker([cidade[0], cidade[1]]).add_to(m)\n",
        "\n",
        "m"
      ],
      "metadata": {
        "id": "bPsfNTk0CsPG"
      },
      "execution_count": null,
      "outputs": []
    },
    {
      "cell_type": "markdown",
      "source": [
        "Saída: https://github.com/mariaraquelbarbosa/genetic-algorithm/blob/main/mapa_interativo_v1.html"
      ],
      "metadata": {
        "id": "hCrj0OsXA9gt"
      }
    },
    {
      "cell_type": "code",
      "source": [
        "m.save('mapa_interativo_v1.html')"
      ],
      "metadata": {
        "id": "_NSXyl_q8lXF"
      },
      "execution_count": 5,
      "outputs": []
    },
    {
      "cell_type": "code",
      "source": [
        "# Cálculo da distância entre duas cidades\n",
        "def distancia(cidade1, cidade2):\n",
        "    return np.linalg.norm(cidade1 - cidade2)\n",
        "\n",
        "# Cálculo da distância total da rota\n",
        "def distancia_total_rota(rota):\n",
        "    distancia_total = 0\n",
        "    for i in range(len(rota) - 1):\n",
        "        cidade1 = cidades[rota[i]]\n",
        "        cidade2 = cidades[rota[i + 1]]\n",
        "        distancia_total += distancia(cidade1, cidade2)\n",
        "    return distancia_total\n",
        "\n",
        "# Função de avaliação ou de otimização (fitness)\n",
        "def funcao_avaliacao(individuo):\n",
        "    rota = individuo + [individuo[0]]  # Adiciona a cidade inicial no final\n",
        "    return (distancia_total_rota(rota),)"
      ],
      "metadata": {
        "id": "yM9_hGBL7usO"
      },
      "execution_count": 6,
      "outputs": []
    },
    {
      "cell_type": "code",
      "source": [
        "# Definição do tipo de problema\n",
        "creator.create(\"MyFitnessMin\", base.Fitness, weights=(-1.0,)) # o objetivo é encontrar a solução com o menor valor de aptidão possível (problema de minimização)\n",
        "creator.create(\"MyIndividual\", list, fitness=creator.MyFitnessMin) # representa um indivíduo da população, ou seja, uma solução candidata ao problema de otimização\n",
        "\n",
        "# Criando inicializadores e operadores das ferramentas do DEAP\n",
        "toolbox = base.Toolbox() # Instância da classe Toolbox que contém as funções de operadores genéticos (como seleção, reprodução, mutação) e as funções de avaliação necessárias para o algoritmo\n",
        "toolbox.register(\"indices\", random.sample, range(len(cidades)), len(cidades)) # Gera uma lista de índices únicos aleatoriamente em um intervalo de 0 até 20 (len(cidades))\n",
        "toolbox.register(\"individual\", tools.initIterate, creator.MyIndividual, toolbox.indices) # Cria os indivíduos do algoritmo genético\n",
        "toolbox.register(\"population\", tools.initRepeat, list, toolbox.individual) # Cria uma população/uma lista de indivíduos\n",
        "toolbox.register(\"evaluate\", funcao_avaliacao) # Calcula o valor de aptidão (fitness) de um indivíduo\n",
        "toolbox.register(\"mate\", tools.cxOrdered) # Rreprodução entre dois indivíduos (está sendo utilizado o operador cxOrdered para realizar o cruzamento ordenado)\n",
        "toolbox.register(\"mutate\", tools.mutShuffleIndexes, indpb=0.05) # Mutação em um indivíduo (está sendo utilizado mutShuffleIndexes para embaralha os índices com uma probabilidade de mutação de 0.05)\n",
        "toolbox.register(\"select\", tools.selTournament, tournsize=3) # Seleção de indivíduos para reprodução (está sendo utilizado selTournament para selecionar os indivíduos por um torneio com tamanho igual a 3)\n",
        "\n",
        "# População inicial de tamanho 100\n",
        "populacao = toolbox.population(n=100)\n",
        "\n",
        "# Execução do algoritmo genético\n",
        "algorithms.eaSimple(populacao, toolbox, cxpb=0.7, mutpb=0.2, ngen=500, verbose=False)\n",
        "  # cxpb é a probabilidade de ocorrência do crossover (reprodução) entre dois indivíduos\n",
        "  # mutpb é a probabilidade de ocorrência da mutação em um indivíduo\n",
        "  # ngen é o número de iterações do algoritmo genético\n",
        "  # verbose é um parâmetro opcional que controla a exibição de informações durante a execução do algoritmo\n",
        "\n",
        "# Obtenção do melhor indivíduo da população final\n",
        "melhor_individuo = tools.selBest(populacao, k=1)[0] # k=1 indica que será selecionado apenas o melhor indivíduo\n",
        "melhor_individuo = melhor_individuo + [melhor_individuo[0]]  # Adiciona a cidade inicial no final\n",
        "\n",
        "# Visualização do resultado\n",
        "print(\"Melhor rota encontrada:\", melhor_individuo)\n",
        "print(\"Distância da melhor rota:\", funcao_avaliacao(melhor_individuo))"
      ],
      "metadata": {
        "colab": {
          "base_uri": "https://localhost:8080/"
        },
        "id": "yvBrupgumrJt",
        "outputId": "7cf1c1d4-ba0b-4c53-aae0-8b1a7011c8a3"
      },
      "execution_count": 7,
      "outputs": [
        {
          "output_type": "stream",
          "name": "stdout",
          "text": [
            "Melhor rota encontrada: [18, 17, 6, 1, 0, 10, 8, 5, 2, 16, 9, 13, 12, 11, 4, 14, 7, 15, 19, 3, 18]\n",
            "Distância da melhor rota: (153.44066982950363,)\n"
          ]
        }
      ]
    },
    {
      "cell_type": "code",
      "source": [
        "# Lista de nomes das cidades\n",
        "cidades_nomes = [\"Londres\",\n",
        "                 \"Paris\",\n",
        "                 \"Roma\",\n",
        "                 \"Berlim\",\n",
        "                 \"Moscou\",\n",
        "                 \"Madri\",\n",
        "                 \"Amsterdã\",\n",
        "                 \"Estocolmo\",\n",
        "                 \"Lisboa\",\n",
        "                 \"Viena\",\n",
        "                 \"Dublin\",\n",
        "                 \"Istambul\",\n",
        "                 \"Varsóvia\",\n",
        "                 \"Budapeste\",\n",
        "                 \"São Petersburgo\",\n",
        "                 \"Oslo\",\n",
        "                 \"Praga\",\n",
        "                 \"Milão\",\n",
        "                 \"Munique\",\n",
        "                 \"Copenhague\"]\n",
        "\n",
        "# List comprehension para colocar nome das cidade na rota final\n",
        "melhor_rota_nomes = [cidades_nomes[cidade] for cidade in melhor_individuo]\n",
        "\n",
        "# Print no resultado com os nomes das cidades\n",
        "print(\"Melhor rota encontrada:\", melhor_rota_nomes)\n",
        "print(\"Distância da melhor rota:\", distancia_total_rota(melhor_individuo))"
      ],
      "metadata": {
        "colab": {
          "base_uri": "https://localhost:8080/"
        },
        "id": "qMaxWuWtK_Qg",
        "outputId": "66bb3741-d023-4056-deea-5f1643f4abd1"
      },
      "execution_count": 8,
      "outputs": [
        {
          "output_type": "stream",
          "name": "stdout",
          "text": [
            "Melhor rota encontrada: ['Munique', 'Milão', 'Amsterdã', 'Paris', 'Londres', 'Dublin', 'Lisboa', 'Madri', 'Roma', 'Praga', 'Viena', 'Budapeste', 'Varsóvia', 'Istambul', 'Moscou', 'São Petersburgo', 'Estocolmo', 'Oslo', 'Copenhague', 'Berlim', 'Munique']\n",
            "Distância da melhor rota: 153.44066982950363\n"
          ]
        }
      ]
    },
    {
      "cell_type": "code",
      "source": [
        "# Cria um novo objeto `folium.Map` com base no centro\n",
        "m = folium.Map(location=centro, zoom_start=4)\n",
        "\n",
        "# Cria uma lista `rota_final_coordenadas`\n",
        "rota_final_coordenadas = [[cidades[cidade][0], cidades[cidade][1]] for cidade in melhor_individuo]\n",
        "rota_final_coordenadas"
      ],
      "metadata": {
        "colab": {
          "base_uri": "https://localhost:8080/"
        },
        "id": "ebkJwXy3BwlG",
        "outputId": "98cb5b89-5d85-4590-efd5-73c6903a0e78"
      },
      "execution_count": 9,
      "outputs": [
        {
          "output_type": "execute_result",
          "data": {
            "text/plain": [
              "[[48.2082, 11.668],\n",
              " [45.4642, 9.19],\n",
              " [52.3702, 4.8952],\n",
              " [48.8566, 2.3522],\n",
              " [51.5074, -0.1278],\n",
              " [53.3498, -6.2603],\n",
              " [38.7223, -9.1393],\n",
              " [40.4168, -3.7038],\n",
              " [41.9028, 12.4964],\n",
              " [50.0755, 14.4378],\n",
              " [48.2082, 16.3738],\n",
              " [47.4979, 19.0402],\n",
              " [52.2297, 21.0122],\n",
              " [41.0082, 28.9784],\n",
              " [55.7558, 37.6176],\n",
              " [59.9343, 30.3351],\n",
              " [59.3293, 18.0686],\n",
              " [59.9139, 10.7522],\n",
              " [55.6761, 12.5683],\n",
              " [52.52, 13.405],\n",
              " [48.2082, 11.668]]"
            ]
          },
          "metadata": {},
          "execution_count": 9
        }
      ]
    },
    {
      "cell_type": "code",
      "source": [
        "# Cria uma linha no mapa `m` utilizando as coordenadas da rota\n",
        "folium.PolyLine(rota_final_coordenadas, color='blue', weight=2, opacity=1).add_to(m)\n",
        "m"
      ],
      "metadata": {
        "id": "o2DZF4UHWCrN"
      },
      "execution_count": null,
      "outputs": []
    },
    {
      "cell_type": "markdown",
      "source": [
        "Saída: https://github.com/mariaraquelbarbosa/genetic-algorithm/blob/main/mapa_interativo_v2.html"
      ],
      "metadata": {
        "id": "9xZhSR6dBBtC"
      }
    },
    {
      "cell_type": "code",
      "source": [
        "m.save('mapa_interativo_v2.html')"
      ],
      "metadata": {
        "id": "jKwkZTbT8tyD"
      },
      "execution_count": 11,
      "outputs": []
    },
    {
      "cell_type": "markdown",
      "source": [
        "# **Considerações finais**"
      ],
      "metadata": {
        "id": "skdOpOFXeKSe"
      }
    },
    {
      "cell_type": "markdown",
      "source": [
        "O algoritmo genético tem uma aplicabilidade mais específica, quando comparado com outros algoritmos de machine learning e, no caso do TSP, não considerou muitos fatores que podem determinantes ao tornar este exemplo um real problema de logística, como trabalhar com rotas de transporte reais, ou ainda considerar o número de pedidos por cidade e a capacidade de cada veículo de transporte. Ainda assim, ele pode gerar um ponto de partida para desenvolver uma solução ótima nesse tipo de problema.\n",
        "\n",
        "Podemos aplicá-lo em outros contextos, como:\n",
        "* Seleção de carteiras de investimento (maximizar o retorno e minimizar o risco).\n",
        "* Problemas de programação combinatória, como escalonamento de horários, alocação de recursos, agendamento de tarefas.\n",
        "* Otimização de projetos de circuitos eletrônicos."
      ],
      "metadata": {
        "id": "1ewbb1iteQ7q"
      }
    }
  ]
}