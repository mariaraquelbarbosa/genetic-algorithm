{
  "nbformat": 4,
  "nbformat_minor": 0,
  "metadata": {
    "colab": {
      "provenance": []
    },
    "kernelspec": {
      "name": "python3",
      "display_name": "Python 3"
    },
    "language_info": {
      "name": "python"
    }
  },
  "cells": [
    {
      "cell_type": "markdown",
      "source": [
        "# **Machine Learning | Algoritmos Genéticos**"
      ],
      "metadata": {
        "id": "sX6HNYpmguDU"
      }
    },
    {
      "cell_type": "markdown",
      "source": [
        "Aplicam uma abordagem evolutiva (seleção natural das espécies) para a aprendizagem de máquina indutiva. Ou seja, ele aplica princípios evolutivos, como seleção, recombinação e mutação, em uma população de soluções candidatas.\n",
        "Então, basicamente, o algoritmo vai tentar encontrar várias soluções e usar a informação obtida (função objetivo) para conseguir soluções cada vez melhores."
      ],
      "metadata": {
        "id": "PJJf6Zrjg1Lj"
      }
    },
    {
      "cell_type": "markdown",
      "source": [
        "Para isso, vamos usar a biblioteca deap, cuja documentação pode ser vista no link a seguir: https://deap.readthedocs.io/en/master/overview.html"
      ],
      "metadata": {
        "id": "_Zfw4ClJYgVT"
      }
    },
    {
      "cell_type": "markdown",
      "source": [
        "# Problema do caixeiro-viajante"
      ],
      "metadata": {
        "id": "2bEl0QfuoPvM"
      }
    },
    {
      "cell_type": "markdown",
      "source": [
        "O TSP, ou problema do caixeiro-viajante em português, representado na figura, consiste na procura de um circuito que possua a menor distância, começando numa cidade (ou local) qualquer, entre várias, visitando cada cidade (local) precisamente uma vez e regressando à cidade (local) inicial."
      ],
      "metadata": {
        "id": "GwPGwOEjoR7V"
      }
    },
    {
      "cell_type": "markdown",
      "source": [
        "# Aplicação"
      ],
      "metadata": {
        "id": "oNEi2qWXoYS3"
      }
    },
    {
      "cell_type": "code",
      "source": [
        "pip install deap"
      ],
      "metadata": {
        "colab": {
          "base_uri": "https://localhost:8080/"
        },
        "id": "IMtjLGq6sxYX",
        "outputId": "37924bc7-6b99-415f-b8c4-4caa582c944c"
      },
      "execution_count": 1,
      "outputs": [
        {
          "output_type": "stream",
          "name": "stdout",
          "text": [
            "Collecting deap\n",
            "  Downloading deap-1.4.1-cp310-cp310-manylinux_2_5_x86_64.manylinux1_x86_64.manylinux_2_17_x86_64.manylinux2014_x86_64.whl (135 kB)\n",
            "\u001b[2K     \u001b[90m━━━━━━━━━━━━━━━━━━━━━━━━━━━━━━━━━━━━━━━\u001b[0m \u001b[32m135.4/135.4 kB\u001b[0m \u001b[31m1.9 MB/s\u001b[0m eta \u001b[36m0:00:00\u001b[0m\n",
            "\u001b[?25hRequirement already satisfied: numpy in /usr/local/lib/python3.10/dist-packages (from deap) (1.22.4)\n",
            "Installing collected packages: deap\n",
            "Successfully installed deap-1.4.1\n"
          ]
        }
      ]
    },
    {
      "cell_type": "code",
      "source": [
        "# Imports\n",
        "import random\n",
        "import numpy as np\n",
        "from deap import algorithms, base, creator, tools\n",
        "import folium"
      ],
      "metadata": {
        "id": "boIhcPVBLMGk"
      },
      "execution_count": 2,
      "outputs": []
    },
    {
      "cell_type": "code",
      "source": [
        "# Criando um array com as coordenadas das 20 principais cidades européias\n",
        "cidades = np.array([\n",
        "    [51.5074, -0.1278],     # Londres\n",
        "    [48.8566, 2.3522],      # Paris\n",
        "    [41.9028, 12.4964],     # Roma\n",
        "    [52.5200, 13.4050],     # Berlim\n",
        "    [55.7558, 37.6176],     # Moscou\n",
        "    [40.4168, -3.7038],     # Madri\n",
        "    [52.3702, 4.8952],      # Amsterdã\n",
        "    [59.3293, 18.0686],     # Estocolmo\n",
        "    [38.7223, -9.1393],     # Lisboa\n",
        "    [48.2082, 16.3738],     # Viena\n",
        "    [53.3498, -6.2603],     # Dublin\n",
        "    [41.0082, 28.9784],     # Istambul\n",
        "    [52.2297, 21.0122],     # Varsóvia\n",
        "    [47.4979, 19.0402],     # Budapeste\n",
        "    [59.9343, 30.3351],     # São Petersburgo\n",
        "    [59.9139, 10.7522],     # Oslo\n",
        "    [50.0755, 14.4378],     # Praga\n",
        "    [45.4642, 9.1900],      # Milão\n",
        "    [48.2082, 11.6680],     # Munique\n",
        "    [55.6761, 12.5683],     # Copenhague\n",
        "])"
      ],
      "metadata": {
        "id": "cF3BVln96tJa"
      },
      "execution_count": 3,
      "outputs": []
    },
    {
      "cell_type": "code",
      "source": [
        "# Cálculo do centro\n",
        "centro = np.mean(cidades, axis=0)\n",
        "\n",
        "# Criar um novo objeto folium.Map com base no centro\n",
        "m = folium.Map(location=centro, zoom_start=4)\n",
        "\n",
        "# Adicionar marcadores para cada cidade\n",
        "for cidade in cidades:\n",
        "    folium.Marker([cidade[0], cidade[1]]).add_to(m)\n",
        "\n",
        "# Exibir o mapa\n",
        "m"
      ],
      "metadata": {
        "colab": {
          "base_uri": "https://localhost:8080/",
          "height": 675
        },
        "id": "bPsfNTk0CsPG",
        "outputId": "4aa2edc5-4ee1-465e-f874-26d7cce4c516"
      },
      "execution_count": 4,
      "outputs": [
        {
          "output_type": "execute_result",
          "data": {
            "text/plain": [
              "<folium.folium.Map at 0x7be5ede13b80>"
            ],
            "text/html": [
              "<div style=\"width:100%;\"><div style=\"position:relative;width:100%;height:0;padding-bottom:60%;\"><span style=\"color:#565656\">Make this Notebook Trusted to load map: File -> Trust Notebook</span><iframe srcdoc=\"&lt;!DOCTYPE html&gt;\n",
              "&lt;html&gt;\n",
              "&lt;head&gt;\n",
              "    \n",
              "    &lt;meta http-equiv=&quot;content-type&quot; content=&quot;text/html; charset=UTF-8&quot; /&gt;\n",
              "    \n",
              "        &lt;script&gt;\n",
              "            L_NO_TOUCH = false;\n",
              "            L_DISABLE_3D = false;\n",
              "        &lt;/script&gt;\n",
              "    \n",
              "    &lt;style&gt;html, body {width: 100%;height: 100%;margin: 0;padding: 0;}&lt;/style&gt;\n",
              "    &lt;style&gt;#map {position:absolute;top:0;bottom:0;right:0;left:0;}&lt;/style&gt;\n",
              "    &lt;script src=&quot;https://cdn.jsdelivr.net/npm/leaflet@1.9.3/dist/leaflet.js&quot;&gt;&lt;/script&gt;\n",
              "    &lt;script src=&quot;https://code.jquery.com/jquery-1.12.4.min.js&quot;&gt;&lt;/script&gt;\n",
              "    &lt;script src=&quot;https://cdn.jsdelivr.net/npm/bootstrap@5.2.2/dist/js/bootstrap.bundle.min.js&quot;&gt;&lt;/script&gt;\n",
              "    &lt;script src=&quot;https://cdnjs.cloudflare.com/ajax/libs/Leaflet.awesome-markers/2.0.2/leaflet.awesome-markers.js&quot;&gt;&lt;/script&gt;\n",
              "    &lt;link rel=&quot;stylesheet&quot; href=&quot;https://cdn.jsdelivr.net/npm/leaflet@1.9.3/dist/leaflet.css&quot;/&gt;\n",
              "    &lt;link rel=&quot;stylesheet&quot; href=&quot;https://cdn.jsdelivr.net/npm/bootstrap@5.2.2/dist/css/bootstrap.min.css&quot;/&gt;\n",
              "    &lt;link rel=&quot;stylesheet&quot; href=&quot;https://netdna.bootstrapcdn.com/bootstrap/3.0.0/css/bootstrap.min.css&quot;/&gt;\n",
              "    &lt;link rel=&quot;stylesheet&quot; href=&quot;https://cdn.jsdelivr.net/npm/@fortawesome/fontawesome-free@6.2.0/css/all.min.css&quot;/&gt;\n",
              "    &lt;link rel=&quot;stylesheet&quot; href=&quot;https://cdnjs.cloudflare.com/ajax/libs/Leaflet.awesome-markers/2.0.2/leaflet.awesome-markers.css&quot;/&gt;\n",
              "    &lt;link rel=&quot;stylesheet&quot; href=&quot;https://cdn.jsdelivr.net/gh/python-visualization/folium/folium/templates/leaflet.awesome.rotate.min.css&quot;/&gt;\n",
              "    \n",
              "            &lt;meta name=&quot;viewport&quot; content=&quot;width=device-width,\n",
              "                initial-scale=1.0, maximum-scale=1.0, user-scalable=no&quot; /&gt;\n",
              "            &lt;style&gt;\n",
              "                #map_ca230a34c6d423df2fdbcac309ec530c {\n",
              "                    position: relative;\n",
              "                    width: 100.0%;\n",
              "                    height: 100.0%;\n",
              "                    left: 0.0%;\n",
              "                    top: 0.0%;\n",
              "                }\n",
              "                .leaflet-container { font-size: 1rem; }\n",
              "            &lt;/style&gt;\n",
              "        \n",
              "&lt;/head&gt;\n",
              "&lt;body&gt;\n",
              "    \n",
              "    \n",
              "            &lt;div class=&quot;folium-map&quot; id=&quot;map_ca230a34c6d423df2fdbcac309ec530c&quot; &gt;&lt;/div&gt;\n",
              "        \n",
              "&lt;/body&gt;\n",
              "&lt;script&gt;\n",
              "    \n",
              "    \n",
              "            var map_ca230a34c6d423df2fdbcac309ec530c = L.map(\n",
              "                &quot;map_ca230a34c6d423df2fdbcac309ec530c&quot;,\n",
              "                {\n",
              "                    center: [50.147360000000006, 12.19799],\n",
              "                    crs: L.CRS.EPSG3857,\n",
              "                    zoom: 4,\n",
              "                    zoomControl: true,\n",
              "                    preferCanvas: false,\n",
              "                }\n",
              "            );\n",
              "\n",
              "            \n",
              "\n",
              "        \n",
              "    \n",
              "            var tile_layer_820737b568af69258fe8261715cab3a8 = L.tileLayer(\n",
              "                &quot;https://{s}.tile.openstreetmap.org/{z}/{x}/{y}.png&quot;,\n",
              "                {&quot;attribution&quot;: &quot;Data by \\u0026copy; \\u003ca target=\\&quot;_blank\\&quot; href=\\&quot;http://openstreetmap.org\\&quot;\\u003eOpenStreetMap\\u003c/a\\u003e, under \\u003ca target=\\&quot;_blank\\&quot; href=\\&quot;http://www.openstreetmap.org/copyright\\&quot;\\u003eODbL\\u003c/a\\u003e.&quot;, &quot;detectRetina&quot;: false, &quot;maxNativeZoom&quot;: 18, &quot;maxZoom&quot;: 18, &quot;minZoom&quot;: 0, &quot;noWrap&quot;: false, &quot;opacity&quot;: 1, &quot;subdomains&quot;: &quot;abc&quot;, &quot;tms&quot;: false}\n",
              "            ).addTo(map_ca230a34c6d423df2fdbcac309ec530c);\n",
              "        \n",
              "    \n",
              "            var marker_0598a0d4b7971cecece5ac1e5f63f09b = L.marker(\n",
              "                [51.5074, -0.1278],\n",
              "                {}\n",
              "            ).addTo(map_ca230a34c6d423df2fdbcac309ec530c);\n",
              "        \n",
              "    \n",
              "            var marker_243e6f98d6c3e1af5ef27f66fab94e2c = L.marker(\n",
              "                [48.8566, 2.3522],\n",
              "                {}\n",
              "            ).addTo(map_ca230a34c6d423df2fdbcac309ec530c);\n",
              "        \n",
              "    \n",
              "            var marker_f021b2e6abc924d2f8e40a7e7eebec82 = L.marker(\n",
              "                [41.9028, 12.4964],\n",
              "                {}\n",
              "            ).addTo(map_ca230a34c6d423df2fdbcac309ec530c);\n",
              "        \n",
              "    \n",
              "            var marker_a6361e9a184e29f0bf523788d5afece9 = L.marker(\n",
              "                [52.52, 13.405],\n",
              "                {}\n",
              "            ).addTo(map_ca230a34c6d423df2fdbcac309ec530c);\n",
              "        \n",
              "    \n",
              "            var marker_bdf10721da2fd85b1326e67dad93500f = L.marker(\n",
              "                [55.7558, 37.6176],\n",
              "                {}\n",
              "            ).addTo(map_ca230a34c6d423df2fdbcac309ec530c);\n",
              "        \n",
              "    \n",
              "            var marker_205735a6795ebd12fdf5d6ef879265c1 = L.marker(\n",
              "                [40.4168, -3.7038],\n",
              "                {}\n",
              "            ).addTo(map_ca230a34c6d423df2fdbcac309ec530c);\n",
              "        \n",
              "    \n",
              "            var marker_0dcbf1bd49451e2afa0b8642c3ebb179 = L.marker(\n",
              "                [52.3702, 4.8952],\n",
              "                {}\n",
              "            ).addTo(map_ca230a34c6d423df2fdbcac309ec530c);\n",
              "        \n",
              "    \n",
              "            var marker_674f29f39d9b8519f26d866568227b28 = L.marker(\n",
              "                [59.3293, 18.0686],\n",
              "                {}\n",
              "            ).addTo(map_ca230a34c6d423df2fdbcac309ec530c);\n",
              "        \n",
              "    \n",
              "            var marker_a275c265b32d846ecaaaa65371bb88c1 = L.marker(\n",
              "                [38.7223, -9.1393],\n",
              "                {}\n",
              "            ).addTo(map_ca230a34c6d423df2fdbcac309ec530c);\n",
              "        \n",
              "    \n",
              "            var marker_f1c4d8c218602af40c29dad2ce6845df = L.marker(\n",
              "                [48.2082, 16.3738],\n",
              "                {}\n",
              "            ).addTo(map_ca230a34c6d423df2fdbcac309ec530c);\n",
              "        \n",
              "    \n",
              "            var marker_054b6bdce65a86817ab54cf79af29af8 = L.marker(\n",
              "                [53.3498, -6.2603],\n",
              "                {}\n",
              "            ).addTo(map_ca230a34c6d423df2fdbcac309ec530c);\n",
              "        \n",
              "    \n",
              "            var marker_68b5e0544c282d0786c4243d5b65278a = L.marker(\n",
              "                [41.0082, 28.9784],\n",
              "                {}\n",
              "            ).addTo(map_ca230a34c6d423df2fdbcac309ec530c);\n",
              "        \n",
              "    \n",
              "            var marker_1fc5b66ee5f731a38e24ffce870db5e0 = L.marker(\n",
              "                [52.2297, 21.0122],\n",
              "                {}\n",
              "            ).addTo(map_ca230a34c6d423df2fdbcac309ec530c);\n",
              "        \n",
              "    \n",
              "            var marker_b22f03985d11d7b6ae507a96ce9b8701 = L.marker(\n",
              "                [47.4979, 19.0402],\n",
              "                {}\n",
              "            ).addTo(map_ca230a34c6d423df2fdbcac309ec530c);\n",
              "        \n",
              "    \n",
              "            var marker_a2aa0a9c54576c863aaf7b9944147323 = L.marker(\n",
              "                [59.9343, 30.3351],\n",
              "                {}\n",
              "            ).addTo(map_ca230a34c6d423df2fdbcac309ec530c);\n",
              "        \n",
              "    \n",
              "            var marker_b5b966449219625727775679e73bbad6 = L.marker(\n",
              "                [59.9139, 10.7522],\n",
              "                {}\n",
              "            ).addTo(map_ca230a34c6d423df2fdbcac309ec530c);\n",
              "        \n",
              "    \n",
              "            var marker_41629442546b1e523cab74476078a1ff = L.marker(\n",
              "                [50.0755, 14.4378],\n",
              "                {}\n",
              "            ).addTo(map_ca230a34c6d423df2fdbcac309ec530c);\n",
              "        \n",
              "    \n",
              "            var marker_9ce382acf6cadff1940e93d6a6d4f8e1 = L.marker(\n",
              "                [45.4642, 9.19],\n",
              "                {}\n",
              "            ).addTo(map_ca230a34c6d423df2fdbcac309ec530c);\n",
              "        \n",
              "    \n",
              "            var marker_ea10fc2060eb4a10289c60a6700167a9 = L.marker(\n",
              "                [48.2082, 11.668],\n",
              "                {}\n",
              "            ).addTo(map_ca230a34c6d423df2fdbcac309ec530c);\n",
              "        \n",
              "    \n",
              "            var marker_5cfd07350705a80a2a9034610f94b73c = L.marker(\n",
              "                [55.6761, 12.5683],\n",
              "                {}\n",
              "            ).addTo(map_ca230a34c6d423df2fdbcac309ec530c);\n",
              "        \n",
              "&lt;/script&gt;\n",
              "&lt;/html&gt;\" style=\"position:absolute;width:100%;height:100%;left:0;top:0;border:none !important;\" allowfullscreen webkitallowfullscreen mozallowfullscreen></iframe></div></div>"
            ]
          },
          "metadata": {},
          "execution_count": 4
        }
      ]
    },
    {
      "cell_type": "code",
      "source": [
        "m.save('mapa_interativo_v1.html')"
      ],
      "metadata": {
        "id": "_NSXyl_q8lXF"
      },
      "execution_count": 5,
      "outputs": []
    },
    {
      "cell_type": "code",
      "source": [
        "# Cálculo da distância entre duas cidades\n",
        "def distancia(cidade1, cidade2):\n",
        "    return np.linalg.norm(cidade1 - cidade2)\n",
        "\n",
        "# Cálculo da distância total da rota\n",
        "def distancia_total_rota(rota):\n",
        "    distancia_total = 0\n",
        "    for i in range(len(rota) - 1):\n",
        "        cidade1 = cidades[rota[i]]\n",
        "        cidade2 = cidades[rota[i + 1]]\n",
        "        distancia_total += distancia(cidade1, cidade2)\n",
        "    return distancia_total\n",
        "\n",
        "# Função de avaliação ou de otimização (fitness)\n",
        "def funcao_avaliacao(individuo):\n",
        "    rota = individuo + [individuo[0]]  # Adiciona a cidade inicial no final\n",
        "    return (distancia_total_rota(rota),)"
      ],
      "metadata": {
        "id": "yM9_hGBL7usO"
      },
      "execution_count": 6,
      "outputs": []
    },
    {
      "cell_type": "code",
      "source": [
        "# Definição do tipo de problema\n",
        "creator.create(\"MyFitnessMin\", base.Fitness, weights=(-1.0,)) # o objetivo é encontrar a solução com o menor valor de aptidão possível (problema de minimização)\n",
        "creator.create(\"MyIndividual\", list, fitness=creator.MyFitnessMin) # representa um indivíduo da população, ou seja, uma solução candidata ao problema de otimização\n",
        "\n",
        "# Criando inicializadores e operadores das ferramentas do DEAP\n",
        "toolbox = base.Toolbox() # Instância da classe Toolbox que contém as funções de operadores genéticos (como seleção, reprodução, mutação) e as funções de avaliação necessárias para o algoritmo\n",
        "toolbox.register(\"indices\", random.sample, range(len(cidades)), len(cidades)) # Gera uma lista de índices únicos aleatoriamente em um intervalo de 0 até 20 (len(cidades))\n",
        "toolbox.register(\"individual\", tools.initIterate, creator.MyIndividual, toolbox.indices) # Cria os indivíduos do algoritmo genético\n",
        "toolbox.register(\"population\", tools.initRepeat, list, toolbox.individual) # Cria uma população/uma lista de indivíduos\n",
        "toolbox.register(\"evaluate\", funcao_avaliacao) # Calcula o valor de aptidão (fitness) de um indivíduo\n",
        "toolbox.register(\"mate\", tools.cxOrdered) # Rreprodução entre dois indivíduos (está sendo utilizado o operador cxOrdered para realizar o cruzamento ordenado)\n",
        "toolbox.register(\"mutate\", tools.mutShuffleIndexes, indpb=0.05) # Mutação em um indivíduo (está sendo utilizado mutShuffleIndexes para embaralha os índices com uma probabilidade de mutação de 0.05)\n",
        "toolbox.register(\"select\", tools.selTournament, tournsize=3) # Seleção de indivíduos para reprodução (está sendo utilizado selTournament para selecionar os indivíduos por um torneio com tamanho igual a 3)\n",
        "\n",
        "# População inicial de tamanho 100\n",
        "populacao = toolbox.population(n=100)\n",
        "\n",
        "# Execução do algoritmo genético\n",
        "algorithms.eaSimple(populacao, toolbox, cxpb=0.7, mutpb=0.2, ngen=500, verbose=False)\n",
        "  # cxpb é a probabilidade de ocorrência do crossover (reprodução) entre dois indivíduos\n",
        "  # mutpb é a probabilidade de ocorrência da mutação em um indivíduo\n",
        "  # ngen é o número de iterações do algoritmo genético\n",
        "  # verbose é um parâmetro opcional que controla a exibição de informações durante a execução do algoritmo\n",
        "\n",
        "# Obtenção do melhor indivíduo da população final\n",
        "melhor_individuo = tools.selBest(populacao, k=1)[0] # k=1 indica que será selecionado apenas o melhor indivíduo\n",
        "melhor_individuo = melhor_individuo + [melhor_individuo[0]]  # Adiciona a cidade inicial no final\n",
        "\n",
        "# Visualização do resultado\n",
        "print(\"Melhor rota encontrada:\", melhor_individuo)\n",
        "print(\"Distância da melhor rota:\", funcao_avaliacao(melhor_individuo))"
      ],
      "metadata": {
        "colab": {
          "base_uri": "https://localhost:8080/"
        },
        "id": "yvBrupgumrJt",
        "outputId": "7cf1c1d4-ba0b-4c53-aae0-8b1a7011c8a3"
      },
      "execution_count": 7,
      "outputs": [
        {
          "output_type": "stream",
          "name": "stdout",
          "text": [
            "Melhor rota encontrada: [18, 17, 6, 1, 0, 10, 8, 5, 2, 16, 9, 13, 12, 11, 4, 14, 7, 15, 19, 3, 18]\n",
            "Distância da melhor rota: (153.44066982950363,)\n"
          ]
        }
      ]
    },
    {
      "cell_type": "code",
      "source": [
        "# Lista de nomes das cidades\n",
        "cidades_nomes = [\"Londres\",\n",
        "                 \"Paris\",\n",
        "                 \"Roma\",\n",
        "                 \"Berlim\",\n",
        "                 \"Moscou\",\n",
        "                 \"Madri\",\n",
        "                 \"Amsterdã\",\n",
        "                 \"Estocolmo\",\n",
        "                 \"Lisboa\",\n",
        "                 \"Viena\",\n",
        "                 \"Dublin\",\n",
        "                 \"Istambul\",\n",
        "                 \"Varsóvia\",\n",
        "                 \"Budapeste\",\n",
        "                 \"São Petersburgo\",\n",
        "                 \"Oslo\",\n",
        "                 \"Praga\",\n",
        "                 \"Milão\",\n",
        "                 \"Munique\",\n",
        "                 \"Copenhague\"]\n",
        "\n",
        "# List comprehension para colocar nome das cidade na rota final\n",
        "melhor_rota_nomes = [cidades_nomes[cidade] for cidade in melhor_individuo]\n",
        "\n",
        "# Print no resultado com os nomes das cidades\n",
        "print(\"Melhor rota encontrada:\", melhor_rota_nomes)\n",
        "print(\"Distância da melhor rota:\", distancia_total_rota(melhor_individuo))"
      ],
      "metadata": {
        "colab": {
          "base_uri": "https://localhost:8080/"
        },
        "id": "qMaxWuWtK_Qg",
        "outputId": "66bb3741-d023-4056-deea-5f1643f4abd1"
      },
      "execution_count": 8,
      "outputs": [
        {
          "output_type": "stream",
          "name": "stdout",
          "text": [
            "Melhor rota encontrada: ['Munique', 'Milão', 'Amsterdã', 'Paris', 'Londres', 'Dublin', 'Lisboa', 'Madri', 'Roma', 'Praga', 'Viena', 'Budapeste', 'Varsóvia', 'Istambul', 'Moscou', 'São Petersburgo', 'Estocolmo', 'Oslo', 'Copenhague', 'Berlim', 'Munique']\n",
            "Distância da melhor rota: 153.44066982950363\n"
          ]
        }
      ]
    },
    {
      "cell_type": "code",
      "source": [
        "# Cria um novo objeto `folium.Map` com base no centro\n",
        "m = folium.Map(location=centro, zoom_start=4)\n",
        "\n",
        "# Cria uma lista `rota_final_coordenadas` com as coordenadas das cidades da rota do `melhor_individuo`\n",
        "rota_final_coordenadas = [[cidades[cidade][0], cidades[cidade][1]] for cidade in melhor_individuo]\n",
        "rota_final_coordenadas"
      ],
      "metadata": {
        "colab": {
          "base_uri": "https://localhost:8080/"
        },
        "id": "ebkJwXy3BwlG",
        "outputId": "98cb5b89-5d85-4590-efd5-73c6903a0e78"
      },
      "execution_count": 9,
      "outputs": [
        {
          "output_type": "execute_result",
          "data": {
            "text/plain": [
              "[[48.2082, 11.668],\n",
              " [45.4642, 9.19],\n",
              " [52.3702, 4.8952],\n",
              " [48.8566, 2.3522],\n",
              " [51.5074, -0.1278],\n",
              " [53.3498, -6.2603],\n",
              " [38.7223, -9.1393],\n",
              " [40.4168, -3.7038],\n",
              " [41.9028, 12.4964],\n",
              " [50.0755, 14.4378],\n",
              " [48.2082, 16.3738],\n",
              " [47.4979, 19.0402],\n",
              " [52.2297, 21.0122],\n",
              " [41.0082, 28.9784],\n",
              " [55.7558, 37.6176],\n",
              " [59.9343, 30.3351],\n",
              " [59.3293, 18.0686],\n",
              " [59.9139, 10.7522],\n",
              " [55.6761, 12.5683],\n",
              " [52.52, 13.405],\n",
              " [48.2082, 11.668]]"
            ]
          },
          "metadata": {},
          "execution_count": 9
        }
      ]
    },
    {
      "cell_type": "code",
      "source": [
        "# Cria uma linha no mapa `m` utilizando as coordenadas da rota definida em `route_coordinates`\n",
        "folium.PolyLine(rota_final_coordenadas, color='blue', weight=2, opacity=1).add_to(m)\n",
        "\n",
        "# Exibir o mapa\n",
        "m"
      ],
      "metadata": {
        "colab": {
          "base_uri": "https://localhost:8080/",
          "height": 675
        },
        "id": "o2DZF4UHWCrN",
        "outputId": "69dd033c-b55e-4ca6-e05d-4dc660426584"
      },
      "execution_count": 10,
      "outputs": [
        {
          "output_type": "execute_result",
          "data": {
            "text/plain": [
              "<folium.folium.Map at 0x7be5ede13af0>"
            ],
            "text/html": [
              "<div style=\"width:100%;\"><div style=\"position:relative;width:100%;height:0;padding-bottom:60%;\"><span style=\"color:#565656\">Make this Notebook Trusted to load map: File -> Trust Notebook</span><iframe srcdoc=\"&lt;!DOCTYPE html&gt;\n",
              "&lt;html&gt;\n",
              "&lt;head&gt;\n",
              "    \n",
              "    &lt;meta http-equiv=&quot;content-type&quot; content=&quot;text/html; charset=UTF-8&quot; /&gt;\n",
              "    \n",
              "        &lt;script&gt;\n",
              "            L_NO_TOUCH = false;\n",
              "            L_DISABLE_3D = false;\n",
              "        &lt;/script&gt;\n",
              "    \n",
              "    &lt;style&gt;html, body {width: 100%;height: 100%;margin: 0;padding: 0;}&lt;/style&gt;\n",
              "    &lt;style&gt;#map {position:absolute;top:0;bottom:0;right:0;left:0;}&lt;/style&gt;\n",
              "    &lt;script src=&quot;https://cdn.jsdelivr.net/npm/leaflet@1.9.3/dist/leaflet.js&quot;&gt;&lt;/script&gt;\n",
              "    &lt;script src=&quot;https://code.jquery.com/jquery-1.12.4.min.js&quot;&gt;&lt;/script&gt;\n",
              "    &lt;script src=&quot;https://cdn.jsdelivr.net/npm/bootstrap@5.2.2/dist/js/bootstrap.bundle.min.js&quot;&gt;&lt;/script&gt;\n",
              "    &lt;script src=&quot;https://cdnjs.cloudflare.com/ajax/libs/Leaflet.awesome-markers/2.0.2/leaflet.awesome-markers.js&quot;&gt;&lt;/script&gt;\n",
              "    &lt;link rel=&quot;stylesheet&quot; href=&quot;https://cdn.jsdelivr.net/npm/leaflet@1.9.3/dist/leaflet.css&quot;/&gt;\n",
              "    &lt;link rel=&quot;stylesheet&quot; href=&quot;https://cdn.jsdelivr.net/npm/bootstrap@5.2.2/dist/css/bootstrap.min.css&quot;/&gt;\n",
              "    &lt;link rel=&quot;stylesheet&quot; href=&quot;https://netdna.bootstrapcdn.com/bootstrap/3.0.0/css/bootstrap.min.css&quot;/&gt;\n",
              "    &lt;link rel=&quot;stylesheet&quot; href=&quot;https://cdn.jsdelivr.net/npm/@fortawesome/fontawesome-free@6.2.0/css/all.min.css&quot;/&gt;\n",
              "    &lt;link rel=&quot;stylesheet&quot; href=&quot;https://cdnjs.cloudflare.com/ajax/libs/Leaflet.awesome-markers/2.0.2/leaflet.awesome-markers.css&quot;/&gt;\n",
              "    &lt;link rel=&quot;stylesheet&quot; href=&quot;https://cdn.jsdelivr.net/gh/python-visualization/folium/folium/templates/leaflet.awesome.rotate.min.css&quot;/&gt;\n",
              "    \n",
              "            &lt;meta name=&quot;viewport&quot; content=&quot;width=device-width,\n",
              "                initial-scale=1.0, maximum-scale=1.0, user-scalable=no&quot; /&gt;\n",
              "            &lt;style&gt;\n",
              "                #map_7e9f0e5c28621205d5e7a38e0cd75826 {\n",
              "                    position: relative;\n",
              "                    width: 100.0%;\n",
              "                    height: 100.0%;\n",
              "                    left: 0.0%;\n",
              "                    top: 0.0%;\n",
              "                }\n",
              "                .leaflet-container { font-size: 1rem; }\n",
              "            &lt;/style&gt;\n",
              "        \n",
              "&lt;/head&gt;\n",
              "&lt;body&gt;\n",
              "    \n",
              "    \n",
              "            &lt;div class=&quot;folium-map&quot; id=&quot;map_7e9f0e5c28621205d5e7a38e0cd75826&quot; &gt;&lt;/div&gt;\n",
              "        \n",
              "&lt;/body&gt;\n",
              "&lt;script&gt;\n",
              "    \n",
              "    \n",
              "            var map_7e9f0e5c28621205d5e7a38e0cd75826 = L.map(\n",
              "                &quot;map_7e9f0e5c28621205d5e7a38e0cd75826&quot;,\n",
              "                {\n",
              "                    center: [50.147360000000006, 12.19799],\n",
              "                    crs: L.CRS.EPSG3857,\n",
              "                    zoom: 4,\n",
              "                    zoomControl: true,\n",
              "                    preferCanvas: false,\n",
              "                }\n",
              "            );\n",
              "\n",
              "            \n",
              "\n",
              "        \n",
              "    \n",
              "            var tile_layer_e0c639bde3dcff4e897d95da6c17aa0b = L.tileLayer(\n",
              "                &quot;https://{s}.tile.openstreetmap.org/{z}/{x}/{y}.png&quot;,\n",
              "                {&quot;attribution&quot;: &quot;Data by \\u0026copy; \\u003ca target=\\&quot;_blank\\&quot; href=\\&quot;http://openstreetmap.org\\&quot;\\u003eOpenStreetMap\\u003c/a\\u003e, under \\u003ca target=\\&quot;_blank\\&quot; href=\\&quot;http://www.openstreetmap.org/copyright\\&quot;\\u003eODbL\\u003c/a\\u003e.&quot;, &quot;detectRetina&quot;: false, &quot;maxNativeZoom&quot;: 18, &quot;maxZoom&quot;: 18, &quot;minZoom&quot;: 0, &quot;noWrap&quot;: false, &quot;opacity&quot;: 1, &quot;subdomains&quot;: &quot;abc&quot;, &quot;tms&quot;: false}\n",
              "            ).addTo(map_7e9f0e5c28621205d5e7a38e0cd75826);\n",
              "        \n",
              "    \n",
              "            var poly_line_d6c8dbfd52705697804f1bdba346ced2 = L.polyline(\n",
              "                [[48.2082, 11.668], [45.4642, 9.19], [52.3702, 4.8952], [48.8566, 2.3522], [51.5074, -0.1278], [53.3498, -6.2603], [38.7223, -9.1393], [40.4168, -3.7038], [41.9028, 12.4964], [50.0755, 14.4378], [48.2082, 16.3738], [47.4979, 19.0402], [52.2297, 21.0122], [41.0082, 28.9784], [55.7558, 37.6176], [59.9343, 30.3351], [59.3293, 18.0686], [59.9139, 10.7522], [55.6761, 12.5683], [52.52, 13.405], [48.2082, 11.668]],\n",
              "                {&quot;bubblingMouseEvents&quot;: true, &quot;color&quot;: &quot;blue&quot;, &quot;dashArray&quot;: null, &quot;dashOffset&quot;: null, &quot;fill&quot;: false, &quot;fillColor&quot;: &quot;blue&quot;, &quot;fillOpacity&quot;: 0.2, &quot;fillRule&quot;: &quot;evenodd&quot;, &quot;lineCap&quot;: &quot;round&quot;, &quot;lineJoin&quot;: &quot;round&quot;, &quot;noClip&quot;: false, &quot;opacity&quot;: 1, &quot;smoothFactor&quot;: 1.0, &quot;stroke&quot;: true, &quot;weight&quot;: 2}\n",
              "            ).addTo(map_7e9f0e5c28621205d5e7a38e0cd75826);\n",
              "        \n",
              "&lt;/script&gt;\n",
              "&lt;/html&gt;\" style=\"position:absolute;width:100%;height:100%;left:0;top:0;border:none !important;\" allowfullscreen webkitallowfullscreen mozallowfullscreen></iframe></div></div>"
            ]
          },
          "metadata": {},
          "execution_count": 10
        }
      ]
    },
    {
      "cell_type": "code",
      "source": [
        "m.save('mapa_interativo_v2.html')"
      ],
      "metadata": {
        "id": "jKwkZTbT8tyD"
      },
      "execution_count": 11,
      "outputs": []
    },
    {
      "cell_type": "markdown",
      "source": [
        "# **Considerações finais**"
      ],
      "metadata": {
        "id": "skdOpOFXeKSe"
      }
    },
    {
      "cell_type": "markdown",
      "source": [
        "O algoritmo genético tem uma aplicabilidade mais específica, quando comparado com outros algoritmos de machine learning e, no caso do TSP, não considerou muitos fatores que podem determinantes ao tornar este exemplo um real problema de logística, como trabalhar com rotas de transporte reais, ou ainda considerar o número de pedidos por cidade e a capacidade de cada veículo de transporte. Ainda assim, ele pode gerar um ponto de partida para desenvolver uma solução ótima nesse tipo de problema.\n",
        "\n",
        "Podemos aplicá-lo em outros contextos, como:\n",
        "* Seleção de carteiras de investimento (maximizar o retorno e minimizar o risco).\n",
        "* Problemas de programação combinatória, como escalonamento de horários, alocação de recursos, agendamento de tarefas.\n",
        "* Otimização de projetos de circuitos eletrônicos."
      ],
      "metadata": {
        "id": "1ewbb1iteQ7q"
      }
    }
  ]
}